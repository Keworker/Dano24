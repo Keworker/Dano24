{
 "cells": [
  {
   "cell_type": "markdown",
   "source": [
    "### File for Keworker's little scripts. Please, don't edit it. "
   ],
   "metadata": {
    "collapsed": false
   },
   "id": "fa05c15c1d9b816b"
  }
 ],
 "metadata": {
  "kernelspec": {
   "display_name": "Python 3",
   "language": "python",
   "name": "python3"
  },
  "language_info": {
   "codemirror_mode": {
    "name": "ipython",
    "version": 2
   },
   "file_extension": ".py",
   "mimetype": "text/x-python",
   "name": "python",
   "nbconvert_exporter": "python",
   "pygments_lexer": "ipython2",
   "version": "2.7.6"
  }
 },
 "nbformat": 4,
 "nbformat_minor": 5
}
