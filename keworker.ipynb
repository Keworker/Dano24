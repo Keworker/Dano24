{
 "cells": [
  {
   "cell_type": "markdown",
   "source": [
    "### File for Keworker's little scripts. Please, don't edit it. "
   ],
   "metadata": {
    "collapsed": false
   },
   "id": "fa05c15c1d9b816b"
  },
  {
   "cell_type": "code",
   "outputs": [],
   "source": [
    "import pandas as pd\n",
    "import numpy as np\n",
    "import matplotlib as mpl"
   ],
   "metadata": {
    "collapsed": false,
    "ExecuteTime": {
     "end_time": "2024-09-07T07:40:31.678222900Z",
     "start_time": "2024-09-07T07:40:26.064391600Z"
    }
   },
   "id": "f253215913e2fa27",
   "execution_count": 1
  },
  {
   "cell_type": "code",
   "outputs": [],
   "source": [
    "dataset = pd.read_csv(\"hackathon_data_actual.csv\")"
   ],
   "metadata": {
    "collapsed": false,
    "ExecuteTime": {
     "end_time": "2024-09-07T07:40:32.326722700Z",
     "start_time": "2024-09-07T07:40:31.684640700Z"
    }
   },
   "id": "35fecaacac85f80b",
   "execution_count": 2
  },
  {
   "cell_type": "code",
   "outputs": [
    {
     "data": {
      "text/plain": "          Unnamed: 0     policy_rk  total_premium_amt       paid_flg  \\\ncount  148475.000000  1.484750e+05       1.484750e+05  148475.000000   \nmean    74237.000000  3.503834e+08       5.319333e+05       0.198660   \nstd     42861.184946  4.331083e+07       4.477189e+05       0.398993   \nmin         0.000000  2.833631e+08       6.120000e+03       0.000000   \n25%     37118.500000  2.931866e+08       2.606400e+05       0.000000   \n50%     74237.000000  3.767784e+08       4.370400e+05       0.000000   \n75%    111355.500000  3.834077e+08       6.705000e+05       0.000000   \nmax    148474.000000  3.960119e+08       2.402010e+07       1.000000   \n\n          auto_cost  vehicle_mileage_km_amt  vehicle_new_flg  \\\ncount  1.484710e+05           148433.000000    147971.000000   \nmean   2.363104e+06            23895.672741         0.103534   \nstd    1.613284e+06            31558.893806         0.304656   \nmin    1.080000e+05                0.000000         0.000000   \n25%    1.331278e+06             3500.000000         0.000000   \n50%    2.000000e+06            13000.000000         0.000000   \n75%    2.850000e+06            30251.000000         0.000000   \nmax    1.830000e+07           350000.000000         1.000000   \n\n       audatex_claim_cnt  audatex_total_cost_amt  vehicle_issue_year  \\\ncount      139833.000000            1.484750e+05       148475.000000   \nmean            0.442792            3.946513e+05         2019.017761   \nstd             0.893975            1.230417e+06            2.268377   \nmin             0.000000            0.000000e+00         2007.000000   \n25%             0.000000            0.000000e+00         2018.000000   \n50%             0.000000            0.000000e+00         2020.000000   \n75%             1.000000            3.771900e+04         2021.000000   \nmax             9.000000            2.074634e+07         2022.000000   \n\n       vehicle_credit_flg  min_driver_experience_years_cnt            age  \\\ncount       148475.000000                    148475.000000  147648.000000   \nmean             0.364492                        15.500535      43.872250   \nstd              0.481289                         8.718451      10.817407   \nmin              0.000000                         0.000000      20.000000   \n25%              0.000000                        10.000000      36.000000   \n50%              0.000000                        15.000000      42.000000   \n75%              1.000000                        20.000000      50.000000   \nmax              1.000000                        61.000000      90.000000   \n\n       issue_flg  expected_loss_amt  transition_flg  premium_transition_amt  \\\ncount   148475.0       1.484750e+05   148099.000000            1.484750e+05   \nmean         1.0       1.720414e+05        0.300481            3.300216e+05   \nstd          0.0       2.709734e+05        0.458469            2.704266e+06   \nmin          1.0       0.000000e+00        0.000000            0.000000e+00   \n25%          1.0       0.000000e+00        0.000000            0.000000e+00   \n50%          1.0       2.397690e+04        0.000000            0.000000e+00   \n75%          1.0       2.917758e+05        1.000000            4.687200e+05   \nmax          1.0       1.425971e+07        1.000000            2.986203e+08   \n\n       renewed_issue_flg  renewed_paid_flg  \ncount      148475.000000     148475.000000  \nmean            0.106483          0.071507  \nstd             0.308455          0.257671  \nmin             0.000000          0.000000  \n25%             0.000000          0.000000  \n50%             0.000000          0.000000  \n75%             0.000000          0.000000  \nmax             1.000000          1.000000  ",
      "text/html": "<div>\n<style scoped>\n    .dataframe tbody tr th:only-of-type {\n        vertical-align: middle;\n    }\n\n    .dataframe tbody tr th {\n        vertical-align: top;\n    }\n\n    .dataframe thead th {\n        text-align: right;\n    }\n</style>\n<table border=\"1\" class=\"dataframe\">\n  <thead>\n    <tr style=\"text-align: right;\">\n      <th></th>\n      <th>Unnamed: 0</th>\n      <th>policy_rk</th>\n      <th>total_premium_amt</th>\n      <th>paid_flg</th>\n      <th>auto_cost</th>\n      <th>vehicle_mileage_km_amt</th>\n      <th>vehicle_new_flg</th>\n      <th>audatex_claim_cnt</th>\n      <th>audatex_total_cost_amt</th>\n      <th>vehicle_issue_year</th>\n      <th>vehicle_credit_flg</th>\n      <th>min_driver_experience_years_cnt</th>\n      <th>age</th>\n      <th>issue_flg</th>\n      <th>expected_loss_amt</th>\n      <th>transition_flg</th>\n      <th>premium_transition_amt</th>\n      <th>renewed_issue_flg</th>\n      <th>renewed_paid_flg</th>\n    </tr>\n  </thead>\n  <tbody>\n    <tr>\n      <th>count</th>\n      <td>148475.000000</td>\n      <td>1.484750e+05</td>\n      <td>1.484750e+05</td>\n      <td>148475.000000</td>\n      <td>1.484710e+05</td>\n      <td>148433.000000</td>\n      <td>147971.000000</td>\n      <td>139833.000000</td>\n      <td>1.484750e+05</td>\n      <td>148475.000000</td>\n      <td>148475.000000</td>\n      <td>148475.000000</td>\n      <td>147648.000000</td>\n      <td>148475.0</td>\n      <td>1.484750e+05</td>\n      <td>148099.000000</td>\n      <td>1.484750e+05</td>\n      <td>148475.000000</td>\n      <td>148475.000000</td>\n    </tr>\n    <tr>\n      <th>mean</th>\n      <td>74237.000000</td>\n      <td>3.503834e+08</td>\n      <td>5.319333e+05</td>\n      <td>0.198660</td>\n      <td>2.363104e+06</td>\n      <td>23895.672741</td>\n      <td>0.103534</td>\n      <td>0.442792</td>\n      <td>3.946513e+05</td>\n      <td>2019.017761</td>\n      <td>0.364492</td>\n      <td>15.500535</td>\n      <td>43.872250</td>\n      <td>1.0</td>\n      <td>1.720414e+05</td>\n      <td>0.300481</td>\n      <td>3.300216e+05</td>\n      <td>0.106483</td>\n      <td>0.071507</td>\n    </tr>\n    <tr>\n      <th>std</th>\n      <td>42861.184946</td>\n      <td>4.331083e+07</td>\n      <td>4.477189e+05</td>\n      <td>0.398993</td>\n      <td>1.613284e+06</td>\n      <td>31558.893806</td>\n      <td>0.304656</td>\n      <td>0.893975</td>\n      <td>1.230417e+06</td>\n      <td>2.268377</td>\n      <td>0.481289</td>\n      <td>8.718451</td>\n      <td>10.817407</td>\n      <td>0.0</td>\n      <td>2.709734e+05</td>\n      <td>0.458469</td>\n      <td>2.704266e+06</td>\n      <td>0.308455</td>\n      <td>0.257671</td>\n    </tr>\n    <tr>\n      <th>min</th>\n      <td>0.000000</td>\n      <td>2.833631e+08</td>\n      <td>6.120000e+03</td>\n      <td>0.000000</td>\n      <td>1.080000e+05</td>\n      <td>0.000000</td>\n      <td>0.000000</td>\n      <td>0.000000</td>\n      <td>0.000000e+00</td>\n      <td>2007.000000</td>\n      <td>0.000000</td>\n      <td>0.000000</td>\n      <td>20.000000</td>\n      <td>1.0</td>\n      <td>0.000000e+00</td>\n      <td>0.000000</td>\n      <td>0.000000e+00</td>\n      <td>0.000000</td>\n      <td>0.000000</td>\n    </tr>\n    <tr>\n      <th>25%</th>\n      <td>37118.500000</td>\n      <td>2.931866e+08</td>\n      <td>2.606400e+05</td>\n      <td>0.000000</td>\n      <td>1.331278e+06</td>\n      <td>3500.000000</td>\n      <td>0.000000</td>\n      <td>0.000000</td>\n      <td>0.000000e+00</td>\n      <td>2018.000000</td>\n      <td>0.000000</td>\n      <td>10.000000</td>\n      <td>36.000000</td>\n      <td>1.0</td>\n      <td>0.000000e+00</td>\n      <td>0.000000</td>\n      <td>0.000000e+00</td>\n      <td>0.000000</td>\n      <td>0.000000</td>\n    </tr>\n    <tr>\n      <th>50%</th>\n      <td>74237.000000</td>\n      <td>3.767784e+08</td>\n      <td>4.370400e+05</td>\n      <td>0.000000</td>\n      <td>2.000000e+06</td>\n      <td>13000.000000</td>\n      <td>0.000000</td>\n      <td>0.000000</td>\n      <td>0.000000e+00</td>\n      <td>2020.000000</td>\n      <td>0.000000</td>\n      <td>15.000000</td>\n      <td>42.000000</td>\n      <td>1.0</td>\n      <td>2.397690e+04</td>\n      <td>0.000000</td>\n      <td>0.000000e+00</td>\n      <td>0.000000</td>\n      <td>0.000000</td>\n    </tr>\n    <tr>\n      <th>75%</th>\n      <td>111355.500000</td>\n      <td>3.834077e+08</td>\n      <td>6.705000e+05</td>\n      <td>0.000000</td>\n      <td>2.850000e+06</td>\n      <td>30251.000000</td>\n      <td>0.000000</td>\n      <td>1.000000</td>\n      <td>3.771900e+04</td>\n      <td>2021.000000</td>\n      <td>1.000000</td>\n      <td>20.000000</td>\n      <td>50.000000</td>\n      <td>1.0</td>\n      <td>2.917758e+05</td>\n      <td>1.000000</td>\n      <td>4.687200e+05</td>\n      <td>0.000000</td>\n      <td>0.000000</td>\n    </tr>\n    <tr>\n      <th>max</th>\n      <td>148474.000000</td>\n      <td>3.960119e+08</td>\n      <td>2.402010e+07</td>\n      <td>1.000000</td>\n      <td>1.830000e+07</td>\n      <td>350000.000000</td>\n      <td>1.000000</td>\n      <td>9.000000</td>\n      <td>2.074634e+07</td>\n      <td>2022.000000</td>\n      <td>1.000000</td>\n      <td>61.000000</td>\n      <td>90.000000</td>\n      <td>1.0</td>\n      <td>1.425971e+07</td>\n      <td>1.000000</td>\n      <td>2.986203e+08</td>\n      <td>1.000000</td>\n      <td>1.000000</td>\n    </tr>\n  </tbody>\n</table>\n</div>"
     },
     "execution_count": 3,
     "metadata": {},
     "output_type": "execute_result"
    }
   ],
   "source": [
    "dataset.describe()"
   ],
   "metadata": {
    "collapsed": false,
    "ExecuteTime": {
     "end_time": "2024-09-07T07:40:32.548541800Z",
     "start_time": "2024-09-07T07:40:32.329925900Z"
    }
   },
   "id": "4c258752aacd5f91",
   "execution_count": 3
  },
  {
   "cell_type": "code",
   "outputs": [],
   "source": [
    "\"\"\"dataset[\"unique\"] = dataset[\"policy_rk\"].astype(str) + dataset[\"insurant_gender_cd\"].astype(str) + dataset[\"age\"].astype(str)\n",
    "dataset.to_csv(\"hackathon_data_actual.csv\")\n",
    "\"\"\"\n",
    "# q = dataset.sort_values(\"expected_loss_amt\", ascending=False).drop_duplicates([\"unique\", \"min_driver_experience_years_сnt\"], keep=\"last\").sort_values(\"min_driver_experience_years_сnt\").drop_duplicates(\"unique\", keep=\"last\")\n",
    "# q\n",
    "\n",
    "# Nans dropped\n",
    "\"\"\"dataset = dataset.dropna()\n",
    "dataset.to_csv(\"hackathon_data_actual.csv\")\"\"\"\n",
    "\n",
    "\n",
    "\"\"\"dataset = dataset.sort_values([\"expected_loss_amt\", \"min_driver_experience_years_cnt\"], ascending=False).drop_duplicates([\"unique\"], keep=\"first\").sort_values(\"unique\")\n",
    "\n",
    "dataset.to_csv(\"hackathon_data_actual.csv\")\"\"\""
   ],
   "metadata": {
    "collapsed": false,
    "ExecuteTime": {
     "end_time": "2024-09-07T07:52:43.845467100Z",
     "start_time": "2024-09-07T07:52:42.622217Z"
    }
   },
   "id": "7050ed7d07bd3501",
   "execution_count": 16
  },
  {
   "cell_type": "code",
   "outputs": [],
   "source": [],
   "metadata": {
    "collapsed": false,
    "ExecuteTime": {
     "end_time": "2024-09-07T07:40:52.612622Z",
     "start_time": "2024-09-07T07:40:52.368319Z"
    }
   },
   "id": "47abd7022629b73b",
   "execution_count": 4
  }
 ],
 "metadata": {
  "kernelspec": {
   "display_name": "Python 3",
   "language": "python",
   "name": "python3"
  },
  "language_info": {
   "codemirror_mode": {
    "name": "ipython",
    "version": 2
   },
   "file_extension": ".py",
   "mimetype": "text/x-python",
   "name": "python",
   "nbconvert_exporter": "python",
   "pygments_lexer": "ipython2",
   "version": "2.7.6"
  }
 },
 "nbformat": 4,
 "nbformat_minor": 5
}
