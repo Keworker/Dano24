{
 "cells": [
  {
   "cell_type": "markdown",
   "source": [
    "### File for Keworker's little scripts. Please, don't edit it. "
   ],
   "metadata": {
    "collapsed": false
   },
   "id": "fa05c15c1d9b816b"
  },
  {
   "cell_type": "code",
   "outputs": [],
   "source": [
    "import pandas as pd\n",
    "import numpy as np\n",
    "import matplotlib.pyplot as plt"
   ],
   "metadata": {
    "collapsed": false
   },
   "id": "f253215913e2fa27",
   "execution_count": null
  },
  {
   "cell_type": "code",
   "outputs": [],
   "source": [
    "dataset = pd.read_csv(\"hackathon_data_actual.csv\")"
   ],
   "metadata": {
    "collapsed": false
   },
   "id": "35fecaacac85f80b",
   "execution_count": null
  },
  {
   "cell_type": "code",
   "outputs": [],
   "source": [
    "# dataset[dataset[\"paid_flg\"] == 0].to_csv(\"unpaid.csv\")"
   ],
   "metadata": {
    "collapsed": false
   },
   "id": "6c59dee129d8bce9",
   "execution_count": null
  },
  {
   "cell_type": "code",
   "outputs": [],
   "source": [
    "dataset.describe()"
   ],
   "metadata": {
    "collapsed": false
   },
   "id": "4c258752aacd5f91",
   "execution_count": null
  },
  {
   "cell_type": "code",
   "outputs": [],
   "source": [
    "\"\"\"dataset[\"unique\"] = dataset[\"policy_rk\"].astype(str) + dataset[\"insurant_gender_cd\"].astype(str) + dataset[\"age\"].astype(str)\n",
    "dataset.to_csv(\"hackathon_data_actual.csv\")\n",
    "\"\"\"\n",
    "# q = dataset.sort_values(\"expected_loss_amt\", ascending=False).drop_duplicates([\"unique\", \"min_driver_experience_years_сnt\"], keep=\"last\").sort_values(\"min_driver_experience_years_сnt\").drop_duplicates(\"unique\", keep=\"last\")\n",
    "# q\n",
    "\n",
    "# Nans dropped\n",
    "# dataset = dataset.dropna()\n",
    "# dataset.to_csv(\"hackathon_data_actual.csv\")\n",
    "# print(len(pd.read_csv(\"hackathon_data_start.csv\").dropna()))\n",
    "\n",
    "\"\"\"dataset = dataset.sort_values([\"expected_loss_amt\", \"min_driver_experience_years_cnt\"], ascending=False).drop_duplicates([\"unique\"], keep=\"first\").sort_values(\"unique\")\n",
    "\n",
    "dataset.to_csv(\"hackathon_data_actual.csv\")\"\"\""
   ],
   "metadata": {
    "collapsed": false
   },
   "id": "7050ed7d07bd3501",
   "execution_count": null
  },
  {
   "cell_type": "code",
   "outputs": [],
   "source": [
    "dataset.auto_model.value_counts()"
   ],
   "metadata": {
    "collapsed": false
   },
   "id": "efa877b14416ec62",
   "execution_count": null
  },
  {
   "cell_type": "code",
   "outputs": [],
   "source": [
    "temp = pd.read_csv(\"hackathon_data_actual.csv\")\n",
    "del temp[\"coverage\"]\n",
    "del temp[\"Unnamed: 0\"]\n",
    "del temp[\"repair_option\"]\n",
    "del temp[\"region\"]\n",
    "del temp[\"auto_make\"]\n",
    "del temp[\"auto_model\"]\n",
    "del temp[\"insurant_gender_cd\"]\n",
    "del temp[\"unique\"]\n",
    "del temp[\"issue_flg\"]\n",
    "# temp.corr()\n",
    "import seaborn as sns\n",
    "# Rotate the tick labels and set their alignment.\n",
    "# plt.show(temp.corr().to_numpy())\n",
    "sns.heatmap(np.abs(temp.corr()), linecolor=\"green\")"
   ],
   "metadata": {
    "collapsed": false
   },
   "id": "45499b65544737f4",
   "execution_count": null
  },
  {
   "cell_type": "code",
   "outputs": [],
   "source": [
    "plt.scatter(dataset[\"age\"], dataset[\"vehicle_issue_year\"])"
   ],
   "metadata": {
    "collapsed": false
   },
   "id": "90af0d8610401481",
   "execution_count": null
  },
  {
   "cell_type": "code",
   "outputs": [],
   "source": [
    "dataset.sort_values([\"premium_transition_amt\"], ascending=False)"
   ],
   "metadata": {
    "collapsed": false
   },
   "id": "4f11611a97bbc13d",
   "execution_count": null
  },
  {
   "cell_type": "code",
   "outputs": [],
   "source": [
    "for s in [\"vehicle_credit_flg\"# \"coverage\", \"repair_option\", \"repair_option\", \"region\", \n",
    "          # \"auto_make\", \"auto_model\", \"insurant_gender_cd\", \"issue_flg\"\n",
    "          ]:\n",
    "    for v in dataset.columns:\n",
    "        # plt.text(2.7, 55, f\"{s} {v}\")\n",
    "        plt.ylabel(v)\n",
    "        plt.xlabel(s)\n",
    "        plt.scatter(dataset[s], dataset[v])\n",
    "        plt.show()\n",
    "        # plt.annotate(s + \" \" + v)"
   ],
   "metadata": {
    "collapsed": false
   },
   "id": "5f1696f9c7a5cbcb",
   "execution_count": null
  },
  {
   "cell_type": "code",
   "outputs": [],
   "source": [
    "    "
   ],
   "metadata": {
    "collapsed": false
   },
   "id": "2ed529b2ee39955c",
   "execution_count": null
  }
 ],
 "metadata": {
  "kernelspec": {
   "display_name": "Python 3",
   "language": "python",
   "name": "python3"
  },
  "language_info": {
   "codemirror_mode": {
    "name": "ipython",
    "version": 2
   },
   "file_extension": ".py",
   "mimetype": "text/x-python",
   "name": "python",
   "nbconvert_exporter": "python",
   "pygments_lexer": "ipython2",
   "version": "2.7.6"
  }
 },
 "nbformat": 4,
 "nbformat_minor": 5
}
